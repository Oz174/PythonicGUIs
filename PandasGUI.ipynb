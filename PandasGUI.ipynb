{
 "cells": [
  {
   "cell_type": "markdown",
   "id": "e00a0c93-852e-4147-a826-92a2796f78de",
   "metadata": {},
   "source": [
    "## Notebook Setup "
   ]
  },
  {
   "cell_type": "code",
   "execution_count": 18,
   "id": "ad2faed2-d9b7-4930-9774-d1069bd0d43c",
   "metadata": {},
   "outputs": [
    {
     "name": "stdout",
     "output_type": "stream",
     "text": [
      "Author: Ahmed Tarek\n",
      "\n"
     ]
    }
   ],
   "source": [
    "# Watermark and Warnings Suppression \n",
    "import warnings\n",
    "warnings.filterwarnings(\"ignore\") \n",
    "import watermark \n",
    "%reload_ext watermark \n",
    "%watermark -a \"Ahmed Tarek\" "
   ]
  },
  {
   "cell_type": "markdown",
   "id": "745f2f45-8069-4747-84e6-c290935c043b",
   "metadata": {
    "jp-MarkdownHeadingCollapsed": true
   },
   "source": [
    "## Imports"
   ]
  },
  {
   "cell_type": "code",
   "execution_count": 19,
   "id": "aba4f327-187d-4203-a1f0-cdbaff3ad28b",
   "metadata": {},
   "outputs": [
    {
     "name": "stdout",
     "output_type": "stream",
     "text": [
      "IPython   : 8.15.0\n",
      "matplotlib: 3.8.0\n",
      "pandas    : 2.1.4\n",
      "watermark : 2.5.0\n",
      "ipywidgets: 8.1.5\n",
      "seaborn   : 0.13.2\n",
      "numpy     : 1.25.2\n",
      "\n"
     ]
    }
   ],
   "source": [
    "#Imports \n",
    "import pandas as pd\n",
    "import numpy as np\n",
    "import ipywidgets as widgets\n",
    "from ipywidgets import FileUpload\n",
    "from IPython.display import display, clear_output\n",
    "import matplotlib.pyplot as plt\n",
    "import seaborn as sns\n",
    "import io\n",
    "%watermark -iv"
   ]
  },
  {
   "cell_type": "markdown",
   "id": "184acdad-9153-4dbd-b0c3-37cc82f8791d",
   "metadata": {
    "jp-MarkdownHeadingCollapsed": true
   },
   "source": [
    "## Configuration and Setup"
   ]
  },
  {
   "cell_type": "code",
   "execution_count": 20,
   "id": "81022574-6547-43f6-ac0c-ac98f92d99f5",
   "metadata": {},
   "outputs": [],
   "source": [
    "# Important Variables \n",
    "# Output area\n",
    "output = widgets.Output()\n",
    "\n",
    "# Create a FileUpload widget\n",
    "upload_widget = FileUpload(\n",
    "    accept='.csv',  # Accept CSV files\n",
    "    multiple=False,  # Do not allow multiple uploads\n",
    "    description='Upload CSV File'\n",
    ")\n",
    "\n",
    "# Initialize an empty DataFrame\n",
    "df = pd.DataFrame()\n",
    "column_options = []"
   ]
  },
  {
   "cell_type": "markdown",
   "id": "c509dfbb-5f85-44f1-933f-91739b211283",
   "metadata": {
    "jp-MarkdownHeadingCollapsed": true
   },
   "source": [
    "## Utility Functions\n",
    "- ```on_file_upload``` : prmopts user to choose single csv file to read and print its shape on success read\n",
    "- ```update_dropdown_options``` : updates drop down menus with columns from uploaded csv\n",
    "- ```show_head``` : shows first 5 records of the dataframe\n",
    "- ```show_tail``` : shows last 5 records of the dataframe\n",
    "- ```show_dtypes``` : shows the datatypes for every column in the dataframe\n",
    "- ```show_describe``` : shows statistical information for all **Numerical** Values only\n",
    "- ```show_missing_values``` : shows missing value counts for each column in the dataframe\n",
    "- ```show_corr``` : shows the correlation matrix between **Numerical** values + Plots Correlation Heatmap\n",
    "- ```show_value_counts``` : shows the contingency table for specified column\n",
    "- ```show_unique_values``` : shows the unique values for specified column\n",
    "- ```show_histogram``` : shows the histogram plot with kde for specified column\n",
    "- ```show_boxplot``` : shows the boxplot for specified column"
   ]
  },
  {
   "cell_type": "code",
   "execution_count": 21,
   "id": "fe6198f0-9c6a-4d69-9013-803497137183",
   "metadata": {},
   "outputs": [],
   "source": [
    "# utility functions\n",
    "def on_file_upload(change):\n",
    "    global df, column_options\n",
    "    with output:\n",
    "        clear_output()\n",
    "        uploaded_file = change['new'][0]  # Access the first item in the tuple\n",
    "        content = uploaded_file['content']\n",
    "        # Read the CSV file\n",
    "        df = pd.read_csv(io.BytesIO(content))\n",
    "        print(\"File uploaded successfully!\")\n",
    "        print(f\"DataFrame shape: {df.shape}\")\n",
    "        # Update column options for dropdowns\n",
    "        column_options = df.columns.tolist()\n",
    "        update_dropdown_options()\n",
    "\n",
    "def update_dropdown_options():\n",
    "    # Update options for column selection widgets\n",
    "    value_counts_column.options = column_options\n",
    "    unique_values_column.options = column_options\n",
    "    histogram_column.options = column_options\n",
    "    boxplot_column.options = column_options\n",
    "\n",
    "# Data exploration functions with checks\n",
    "def show_head():\n",
    "    with output:\n",
    "        clear_output()\n",
    "        if df.empty:\n",
    "            print(\"Please upload a CSV file.\")\n",
    "        else:\n",
    "            display(df.head())\n",
    "\n",
    "def show_tail():\n",
    "    with output:\n",
    "        clear_output()\n",
    "        if df.empty:\n",
    "            print(\"Please upload a CSV file.\")\n",
    "        else:\n",
    "            display(df.tail())\n",
    "\n",
    "def show_dtypes():\n",
    "    with output:\n",
    "        clear_output()\n",
    "        if df.empty:\n",
    "            print(\"Please upload a CSV file.\")\n",
    "        else:\n",
    "            display(df.dtypes)\n",
    "\n",
    "def show_describe():\n",
    "    with output:\n",
    "        clear_output()\n",
    "        if df.empty:\n",
    "            print(\"Please upload a CSV file.\")\n",
    "        else:\n",
    "            display(df.describe())\n",
    "\n",
    "def show_missing_values():\n",
    "    with output:\n",
    "        clear_output()\n",
    "        if df.empty:\n",
    "            print(\"Please upload a CSV file.\")\n",
    "        else:\n",
    "            display(df.isnull().sum())\n",
    "\n",
    "def show_corr():\n",
    "    with output:\n",
    "        clear_output()\n",
    "        if df.empty:\n",
    "            print(\"Please upload a CSV file.\")\n",
    "        else:\n",
    "            # Select only numeric columns for correlation\n",
    "            numeric_df = df.select_dtypes(include=[np.number])\n",
    "            if numeric_df.empty:\n",
    "                print(\"No numeric columns available for correlation.\")\n",
    "            else:\n",
    "                corr = numeric_df.corr()\n",
    "                display(corr)\n",
    "                plt.figure(figsize=(10, 8))\n",
    "                sns.heatmap(corr, annot=True, fmt=\".2f\", cmap='coolwarm')\n",
    "                plt.show()\n",
    "\n",
    "\n",
    "def show_value_counts(column):\n",
    "    with output:\n",
    "        clear_output()\n",
    "        if df.empty:\n",
    "            print(\"Please upload a CSV file.\")\n",
    "        else:\n",
    "            counts = df[column].value_counts()\n",
    "            display(counts)\n",
    "\n",
    "def show_unique_values(column):\n",
    "    with output:\n",
    "        clear_output()\n",
    "        if df.empty:\n",
    "            print(\"Please upload a CSV file.\")\n",
    "        else:\n",
    "            uniques = df[column].unique()\n",
    "            print(f\"Unique values in '{column}':\")\n",
    "            display(uniques)\n",
    "\n",
    "def show_histogram(column):\n",
    "    with output:\n",
    "        clear_output()\n",
    "        if df.empty:\n",
    "            print(\"Please upload a CSV file.\")\n",
    "        else:\n",
    "            plt.figure(figsize=(8,6))\n",
    "            sns.histplot(df[column].dropna(), kde=True)\n",
    "            plt.title(f\"Histogram of {column}\")\n",
    "            plt.show()\n",
    "\n",
    "def show_boxplot(column):\n",
    "    with output:\n",
    "        clear_output()\n",
    "        if df.empty:\n",
    "            print(\"Please upload a CSV file.\")\n",
    "        elif df[column].dtype not in [np.float64, np.int64]:\n",
    "            print(f\"The selected column '{column}' is not numeric. Please select a numeric column.\")\n",
    "        else:\n",
    "            plt.figure(figsize=(8, 6))\n",
    "            sns.boxplot(y=df[column].dropna())\n",
    "            plt.title(f\"Boxplot of {column}\")\n",
    "            plt.show()\n"
   ]
  },
  {
   "cell_type": "markdown",
   "id": "942cc5df-27a4-4963-98b6-25ae2c995e08",
   "metadata": {
    "jp-MarkdownHeadingCollapsed": true
   },
   "source": [
    "## GUI components"
   ]
  },
  {
   "cell_type": "code",
   "execution_count": 22,
   "id": "e70d2215-f2dc-4cd7-93d6-bfb8ba7c9abe",
   "metadata": {},
   "outputs": [],
   "source": [
    "# Buttons for data exploration options\n",
    "button_head = widgets.Button(description=\"First Rows\")\n",
    "button_tail = widgets.Button(description=\"Last Rows\")\n",
    "button_dtypes = widgets.Button(description=\"Data Types\")\n",
    "button_describe = widgets.Button(description=\"Statistical Summary\")\n",
    "button_missing = widgets.Button(description=\"Missing Values\")\n",
    "button_corr = widgets.Button(description=\"Correlation Matrix\")\n",
    "\n",
    "# Initialize dropdowns with empty options\n",
    "value_counts_column = widgets.Dropdown(\n",
    "    options=column_options,\n",
    "    description='Select Column:'\n",
    ")\n",
    "\n",
    "unique_values_column = widgets.Dropdown(\n",
    "    options=column_options,\n",
    "    description='Select Column:'\n",
    ")\n",
    "\n",
    "histogram_column = widgets.Dropdown(\n",
    "    options=column_options,\n",
    "    description='Select Column:'\n",
    ")\n",
    "\n",
    "boxplot_column = widgets.Dropdown(\n",
    "    options=column_options,\n",
    "    description='Select Column:'\n",
    ")\n",
    "\n",
    "# Buttons for functions requiring column selection\n",
    "button_value_counts = widgets.Button(description=\"Show Value Counts\")\n",
    "button_unique_values = widgets.Button(description=\"Show Unique Values\")\n",
    "button_histogram = widgets.Button(description=\"Show Histogram\")\n",
    "button_boxplot = widgets.Button(description=\"Show Boxplot\")"
   ]
  },
  {
   "cell_type": "markdown",
   "id": "de8c44d5-2168-4589-ab80-c4d66e38878e",
   "metadata": {
    "jp-MarkdownHeadingCollapsed": true
   },
   "source": [
    "## Handlers and Conncetions"
   ]
  },
  {
   "cell_type": "code",
   "execution_count": 23,
   "id": "eabca2dd-7890-4747-b47b-84a46b666a73",
   "metadata": {},
   "outputs": [],
   "source": [
    "# Button click handlers\n",
    "def on_button_head_clicked(b):\n",
    "    show_head()\n",
    "\n",
    "def on_button_tail_clicked(b):\n",
    "    show_tail()\n",
    "\n",
    "def on_button_dtypes_clicked(b):\n",
    "    show_dtypes()\n",
    "\n",
    "def on_button_describe_clicked(b):\n",
    "    show_describe()\n",
    "\n",
    "def on_button_missing_clicked(b):\n",
    "    show_missing_values()\n",
    "\n",
    "def on_button_corr_clicked(b):\n",
    "    show_corr()\n",
    "\n",
    "def on_button_value_counts_clicked(b):\n",
    "    show_value_counts(value_counts_column.value)\n",
    "\n",
    "def on_button_unique_values_clicked(b):\n",
    "    show_unique_values(unique_values_column.value)\n",
    "\n",
    "def on_button_histogram_clicked(b):\n",
    "    show_histogram(histogram_column.value)\n",
    "\n",
    "def on_button_boxplot_clicked(b):\n",
    "    show_boxplot(boxplot_column.value)\n",
    "\n",
    "# Connect buttons to handlers\n",
    "button_head.on_click(on_button_head_clicked)\n",
    "button_tail.on_click(on_button_tail_clicked)\n",
    "button_dtypes.on_click(on_button_dtypes_clicked)\n",
    "button_describe.on_click(on_button_describe_clicked)\n",
    "button_missing.on_click(on_button_missing_clicked)\n",
    "button_corr.on_click(on_button_corr_clicked)\n",
    "\n",
    "button_value_counts.on_click(on_button_value_counts_clicked)\n",
    "button_unique_values.on_click(on_button_unique_values_clicked)\n",
    "button_histogram.on_click(on_button_histogram_clicked)\n",
    "button_boxplot.on_click(on_button_boxplot_clicked)\n",
    "\n",
    "\n"
   ]
  },
  {
   "cell_type": "markdown",
   "id": "3dee2175-e0b5-43f3-b63c-f74819da4ca9",
   "metadata": {
    "jp-MarkdownHeadingCollapsed": true
   },
   "source": [
    "## FInal GUI Design "
   ]
  },
  {
   "cell_type": "code",
   "execution_count": 24,
   "id": "ec4fd5d0-c71b-42da-89e3-f19501e63cd9",
   "metadata": {},
   "outputs": [],
   "source": [
    "# Observe the upload widget\n",
    "upload_widget.observe(on_file_upload, names='value')\n",
    "\n",
    "# Group buttons without column selection\n",
    "button_row1 = widgets.HBox([button_head, button_tail, button_dtypes])\n",
    "button_row2 = widgets.HBox([button_describe, button_missing, button_corr])\n",
    "\n",
    "# Group widgets for value counts\n",
    "value_counts_widget = widgets.VBox([value_counts_column, button_value_counts])\n",
    "\n",
    "# Group widgets for unique values\n",
    "unique_values_widget = widgets.VBox([unique_values_column, button_unique_values])\n",
    "\n",
    "# Group widgets for histogram\n",
    "histogram_widget = widgets.VBox([histogram_column, button_histogram])\n",
    "\n",
    "# Group widgets for boxplot\n",
    "boxplot_widget = widgets.VBox([boxplot_column, button_boxplot])\n",
    "\n",
    "# Arrange all widgets\n",
    "ui = widgets.VBox([\n",
    "    upload_widget,\n",
    "    button_row1,\n",
    "    button_row2,\n",
    "    value_counts_widget,\n",
    "    unique_values_widget,\n",
    "    histogram_widget,\n",
    "    boxplot_widget\n",
    "])\n"
   ]
  },
  {
   "cell_type": "markdown",
   "id": "e2d737d4-ccb0-4c86-ba0d-5051ea0dada0",
   "metadata": {},
   "source": [
    "## Application "
   ]
  },
  {
   "cell_type": "code",
   "execution_count": 26,
   "id": "ca5cab82-9717-4743-bfd4-5566ac94b8e4",
   "metadata": {},
   "outputs": [
    {
     "data": {
      "application/vnd.jupyter.widget-view+json": {
       "model_id": "41998d4556a84e2a86497170e347b8f3",
       "version_major": 2,
       "version_minor": 0
      },
      "text/plain": [
       "VBox(children=(FileUpload(value=(), accept='.csv', description='Upload CSV File'), HBox(children=(Button(descr…"
      ]
     },
     "metadata": {},
     "output_type": "display_data"
    },
    {
     "data": {
      "application/vnd.jupyter.widget-view+json": {
       "model_id": "f07077874f5c43fea2a4291d4c8010b0",
       "version_major": 2,
       "version_minor": 0
      },
      "text/plain": [
       "Output()"
      ]
     },
     "metadata": {},
     "output_type": "display_data"
    }
   ],
   "source": [
    "# Display the UI and output\n",
    "display(ui, output)"
   ]
  },
  {
   "cell_type": "code",
   "execution_count": null,
   "id": "a725f99b-b382-42d7-8376-d6ff086b30e2",
   "metadata": {},
   "outputs": [],
   "source": []
  }
 ],
 "metadata": {
  "kernelspec": {
   "display_name": "Python 3 (ipykernel)",
   "language": "python",
   "name": "python3"
  },
  "language_info": {
   "codemirror_mode": {
    "name": "ipython",
    "version": 3
   },
   "file_extension": ".py",
   "mimetype": "text/x-python",
   "name": "python",
   "nbconvert_exporter": "python",
   "pygments_lexer": "ipython3",
   "version": "3.10.13"
  }
 },
 "nbformat": 4,
 "nbformat_minor": 5
}
